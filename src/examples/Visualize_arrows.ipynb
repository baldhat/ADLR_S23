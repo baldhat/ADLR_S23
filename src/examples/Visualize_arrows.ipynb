{
 "cells": [
  {
   "cell_type": "code",
   "execution_count": null,
   "id": "c5ed871e",
   "metadata": {},
   "outputs": [],
   "source": [
    "include(\"../Flyonic.jl\");\n",
    "using .Flyonic;\n",
    "\n",
    "using Rotations; # used for initial position\n",
    "using LoopThrottle; # Used to throttle the main loop to real time.\n",
    "\n",
    "using LinearAlgebra;"
   ]
  },
  {
   "cell_type": "code",
   "execution_count": null,
   "id": "2f89e7eb",
   "metadata": {},
   "outputs": [],
   "source": [
    "create_visualization();"
   ]
  },
  {
   "cell_type": "code",
   "execution_count": null,
   "id": "fdf0384f",
   "metadata": {},
   "outputs": [],
   "source": [
    "create_VTOL(\"vtol\");\n",
    "create_sphere(\"sphere\", 0.1);\n",
    "set_arrow(\"vector\");"
   ]
  },
  {
   "cell_type": "code",
   "execution_count": null,
   "id": "97d68bf9",
   "metadata": {},
   "outputs": [],
   "source": [
    "function figure_8_position(t, final_time)\n",
    "    radius = 2.0\n",
    "    speed = 0.8\n",
    "    \n",
    "    if (mod(t*speed, 4.0*pi) > 2.0*pi)\n",
    "        p_des_W = [cos(t*speed)*radius-radius,sin(t*speed)*radius,2.0];\n",
    "    else\n",
    "        p_des_W = [-(cos(t*speed)*radius-radius),sin(t*speed)*radius,2.0];\n",
    "    end\n",
    "        \n",
    "    set_transform(\"sphere\", p_des_W);\n",
    "    \n",
    "    return p_des_W\n",
    "end;"
   ]
  },
  {
   "cell_type": "code",
   "execution_count": null,
   "id": "2678370b",
   "metadata": {},
   "outputs": [],
   "source": [
    "# Set init state\n",
    "x_W = [0.0; 0.0; 0.0];\n",
    "R_W = UnitQuaternion(RotY(-pi/2.0)*RotX(pi));\n",
    "\n",
    "    \n",
    "Δt = 0.0025; #1e-3;\n",
    "t = 0.0\n",
    "final_time = 10.0;\n",
    "\n",
    "\n",
    "@throttle t while t < final_time\n",
    "    \n",
    "    p_des_W = figure_8_position(t, final_time);\n",
    "    \n",
    "    set_transform(\"vtol\", x_W, QuatRotation(R_W));\n",
    "    transform_arrow(\"vector\", x_W, p_des_W - x_W, max_head_radius=0.05)\n",
    "    \n",
    "    t += Δt\n",
    "end"
   ]
  },
  {
   "cell_type": "code",
   "execution_count": 1,
   "id": "366e3c5e",
   "metadata": {},
   "outputs": [
    {
     "ename": "UndefVarError",
     "evalue": "UndefVarError: EulerXYZ not defined",
     "output_type": "error",
     "traceback": [
      "UndefVarError: EulerXYZ not defined\n",
      "\n",
      "Stacktrace:\n",
      " [1] top-level scope\n",
      "   @ s:\\Lenny\\.UNI\\RCI Sem 3\\ADL4R\\ADLR_S23\\src\\examples\\Visualize_arrows.ipynb:3"
     ]
    }
   ],
   "source": [
    "using Rotations\n",
    "\n",
    "test = EulerXYZ(0,0,0)"
   ]
  },
  {
   "cell_type": "code",
   "execution_count": 8,
   "id": "831c891b",
   "metadata": {},
   "outputs": [
    {
     "data": {
      "text/plain": [
       "-1.0"
      ]
     },
     "metadata": {},
     "output_type": "display_data"
    }
   ],
   "source": [
    "A = RotY(-1)\n",
    "rotation_angle(A)"
   ]
  },
  {
   "cell_type": "code",
   "execution_count": 23,
   "id": "e125e754",
   "metadata": {},
   "outputs": [
    {
     "data": {
      "text/plain": [
       "3×3 Matrix{Float64}:\n",
       " 1.0  0.0  0.0\n",
       " 0.0  1.0  0.0\n",
       " 0.0  0.0  1.0"
      ]
     },
     "metadata": {},
     "output_type": "display_data"
    }
   ],
   "source": [
    "using LinearAlgebra\n",
    "A = Array([1;0;0;0;1;0])\n",
    "rot_mat = zeros(3,3)\n",
    "rot_mat[:, 1] = A[1:3]\n",
    "rot_mat[:, 2] = A[4:6]\n",
    "rot_mat[:, 3] = cross(rot_mat[:, 1], rot_mat[:, 2])\n",
    "rot_mat"
   ]
  },
  {
   "cell_type": "code",
   "execution_count": 40,
   "id": "b602c3b6",
   "metadata": {},
   "outputs": [
    {
     "name": "stdout",
     "output_type": "stream",
     "text": [
      "[1, 2][-1, 2]"
     ]
    }
   ],
   "source": [
    "A = [-1;2]\n",
    "print(broadcast(abs, A))\n",
    "print(A)\n"
   ]
  },
  {
   "cell_type": "code",
   "execution_count": 58,
   "id": "acc87d0a",
   "metadata": {},
   "outputs": [
    {
     "data": {
      "text/plain": [
       "3×3 Matrix{Float64}:\n",
       " 6.12323e-17   0.862761     -0.505612\n",
       " 0.0           0.505612      0.862761\n",
       " 1.0          -5.28289e-17   3.09598e-17"
      ]
     },
     "metadata": {},
     "output_type": "display_data"
    }
   ],
   "source": [
    "a = Matrix(RotY(-pi/2)*RotX(rand()*2*pi))"
   ]
  },
  {
   "cell_type": "code",
   "execution_count": 56,
   "id": "0e1f80b2",
   "metadata": {},
   "outputs": [],
   "source": []
  },
  {
   "cell_type": "code",
   "execution_count": null,
   "id": "541962f5",
   "metadata": {},
   "outputs": [],
   "source": []
  }
 ],
 "metadata": {
  "kernelspec": {
   "display_name": "Julia 1.8.5",
   "language": "julia",
   "name": "julia-1.8"
  },
  "language_info": {
   "file_extension": ".jl",
   "mimetype": "application/julia",
   "name": "julia",
   "version": "1.8.5"
  }
 },
 "nbformat": 4,
 "nbformat_minor": 5
}
