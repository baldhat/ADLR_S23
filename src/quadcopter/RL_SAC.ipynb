{
 "cells": [
  {
   "cell_type": "markdown",
   "id": "0649b76a",
   "metadata": {},
   "source": [
    "# Init Bionic VTOL"
   ]
  },
  {
   "cell_type": "code",
   "execution_count": null,
   "id": "96751412",
   "metadata": {},
   "outputs": [],
   "source": [
    "include(\"../Flyonic.jl\");\n",
    "using .Flyonic;\n",
    "\n",
    "using Rotations; # used for initial position\n",
    "\n",
    "using ReinforcementLearning;\n",
    "using StableRNGs;\n",
    "using Flux;\n",
    "using Flux.Losses;\n",
    "using Random;\n",
    "using IntervalSets;\n",
    "using LinearAlgebra;\n",
    "using Distributions;\n",
    "\n",
    "using Plots;\n",
    "using Statistics;\n",
    "\n",
    "using TensorBoardLogger\n",
    "using Logging\n",
    "\n",
    "using BSON: @save, @load # save mode"
   ]
  },
  {
   "cell_type": "code",
   "execution_count": null,
   "id": "f7e4ee64",
   "metadata": {},
   "outputs": [],
   "source": [
    "create_visualization();"
   ]
  },
  {
   "cell_type": "code",
   "execution_count": null,
   "id": "e19cce80",
   "metadata": {},
   "outputs": [],
   "source": [
    "# TensorBoard\n",
    "logger = TBLogger(\"tensorboard_SAC\", tb_increment)"
   ]
  },
  {
   "cell_type": "code",
   "execution_count": null,
   "id": "7d9557df",
   "metadata": {},
   "outputs": [],
   "source": [
    "# indicates how many threads Julia was started with. This is important for the multi-threaded environment\n",
    "Threads.nthreads()"
   ]
  },
  {
   "cell_type": "code",
   "execution_count": null,
   "id": "10d945ff",
   "metadata": {},
   "outputs": [],
   "source": [
    "Δt = 0.025;"
   ]
  },
  {
   "cell_type": "markdown",
   "id": "5411db62",
   "metadata": {},
   "source": [
    "# Create Reinforcement Learning Environment"
   ]
  },
  {
   "cell_type": "code",
   "execution_count": null,
   "id": "96af6ee0",
   "metadata": {},
   "outputs": [],
   "source": [
    "mutable struct VtolEnv{A,T,ACT,R<:AbstractRNG} <: AbstractEnv # Parametric Constructor for a subtype of AbstractEnv\n",
    "    action_space::A # All possible actions the agent can take\n",
    "    observation_space::Space{Vector{ClosedInterval{T}}} # All possible states that the agent can observe.\n",
    "    state::Vector{T} # Current state\n",
    "    action::ACT # next action the agent wants to apply in the environment.\n",
    "    done::Bool # shows whether a terminal condition has been reached.\n",
    "    t::T # time\n",
    "    rng::R # random number generator\n",
    "\n",
    "    name::String # for different naming of multible environoments\n",
    "    visualization::Bool # activate visualisation (Faster computation without visualisation)\n",
    "    worldtime::Bool # visualization in \"real-world\" time (only for watching or filming).\n",
    "    \n",
    "    # Overall state of the environment. This does not correspond to the observation space of the agent but contains all states that describe the environment.\n",
    "    x_W::Vector{T} # Position in World frame\n",
    "    v_B::Vector{T} # Velocity in Body frame\n",
    "    R_W::Matrix{T} # Rotation (matrix) in World frame\n",
    "    ω_B::Vector{T} # Rotation velocity in Body frame\n",
    "    wind_W::Vector{T} # Externel linear velocity acting on the drone\n",
    "    Δt::T # Time step for physics simulation in seconds\n",
    "    v_W_target::Vector{T} # Target Velocity in World frame\n",
    "    \n",
    "    current_action::Vector{T}\n",
    "    last_action::Vector{T}\n",
    "end"
   ]
  },
  {
   "cell_type": "code",
   "execution_count": null,
   "id": "14a6873d",
   "metadata": {},
   "outputs": [],
   "source": [
    "# define a keyword-based constructor for the type declared in the mutable struct typedef. \n",
    "# It could also be done with the macro Base.@kwdef.\n",
    "function VtolEnv(;\n",
    "    rng = Random.GLOBAL_RNG, # Random number generation\n",
    "    name = \"Crazyflie\",\n",
    "    visualization = false,\n",
    "    worldtime = false,\n",
    "    kwargs... # let the function take an arbitrary number of keyword arguments\n",
    ")\n",
    "    \n",
    "    T = Float64; # explicit type which is used e.g. in state. Cannot be altered due to the poor matrix defininon.\n",
    "    \n",
    "    # final PWM Values for Crazyflie. The interval definition has no effect in the current implementation.\n",
    "    action_space = Space(\n",
    "        ClosedInterval{T}[\n",
    "            0..1#0..65535, # motor 1\n",
    "            0..1#0..65535, # motor 2\n",
    "            0..1#0..65535, # motor 3\n",
    "            0..1#0..65535, # motor 4\n",
    "            ], \n",
    "    )\n",
    "\n",
    "    \n",
    "    state_space = Space( # Three continuous values in state space.\n",
    "        ClosedInterval{T}[\n",
    "            typemin(T)..typemax(T), # 1  World Vector UP x\n",
    "            typemin(T)..typemax(T), # 2  World Vector UP y\n",
    "            typemin(T)..typemax(T), # 3  World Vector UP z\n",
    "            typemin(T)..typemax(T), # 4  World Vector FRONT x\n",
    "            typemin(T)..typemax(T), # 5  World Vector FRONT y\n",
    "            typemin(T)..typemax(T), # 6  World Vector FRONT z\n",
    "            \n",
    "            typemin(T)..typemax(T), # 7  Body target velocity along x\n",
    "            typemin(T)..typemax(T), # 8  Body target velocity along y\n",
    "            typemin(T)..typemax(T), # 9  Body target velocity along z\n",
    "           \n",
    "            typemin(T)..typemax(T), # 10 Body velocity along x\n",
    "            typemin(T)..typemax(T), # 11 Body velocity along y\n",
    "            typemin(T)..typemax(T), # 12 Body velocity along z\n",
    "            \n",
    "            typemin(T)..typemax(T), # 13 Body rotational velocity around x\n",
    "            typemin(T)..typemax(T), # 14 Body rotational velocity around y\n",
    "            typemin(T)..typemax(T), # 15 Body rotational velocity around z\n",
    "            ], \n",
    "    )\n",
    "    \n",
    "    if visualization\n",
    "        create_Crazyflie(name, actuators = true);\n",
    "        set_Crazyflie_actuators(name, [0.0; 0.0; 0.0; 0.0]);\n",
    "        set_transform(name, [0.0; 0.0; 0.0] ,one(QuatRotation));\n",
    "        set_arrow(string(name, \"_vel\"), color_vec=[0.0; 1.0; 0.0; 1.0]);\n",
    "        transform_arrow(string(name, \"_vel\"), [0.0; 0.0; 0.0], [0.0; 0.0; 1.0], max_head_radius=0.05)\n",
    "        set_arrow(string(name, \"_vel_current\"), color_vec=[1.0; 0.0; 0.0; 1.0]);\n",
    "        transform_arrow(string(name, \"_vel_current\"), [0.0; 0.0; 0.0], [0.0; 0.0; 1.0], max_head_radius=0.02)                  \n",
    "    end\n",
    "    \n",
    "\n",
    "\n",
    "    environment = VtolEnv(\n",
    "        action_space,\n",
    "        state_space,\n",
    "        zeros(T, length(state_space)), # current state, needs to be extended.\n",
    "        [0.25; 0.25; 0.25; 0.25],#rand(action_space),\n",
    "        false, # episode done ?\n",
    "        0.0, # time\n",
    "        rng, # random number generator  \n",
    "        name,\n",
    "        visualization,\n",
    "        worldtime,\n",
    "        zeros(T, 3), # x_W\n",
    "        zeros(T, 3), # v_B\n",
    "        Matrix(one(QuatRotation)), # Float64... so T needs to be Float64\n",
    "        zeros(T, 3), # ω_B\n",
    "        zeros(T, 3), # wind_W\n",
    "        Δt, # Δt\n",
    "        zeros(T, 3), # v_W_Target\n",
    "        [0.25; 0.25; 0.25; 0.25], # current PWM (for reward)\n",
    "        [0.25; 0.25; 0.25; 0.25], # last PWM (for reward)\n",
    "    )\n",
    "    \n",
    "    \n",
    "    RLBase.reset!(environment)\n",
    "    \n",
    "    return environment\n",
    "    \n",
    "end;"
   ]
  },
  {
   "cell_type": "markdown",
   "id": "ec660d5e",
   "metadata": {},
   "source": [
    "Just for explanation:\n",
    "\n",
    "1. A mutable Struct is created. A struct is a constructor and a constructor is a function that creates new objects.\n",
    "2. A outer keyword-based constructor method is added for the type declared in the mutable struct typedef before.\n",
    "\n",
    "So now we have a function with two methods. Julia will decide which method to call by multiple dispatch."
   ]
  },
  {
   "cell_type": "raw",
   "id": "23dd4047",
   "metadata": {},
   "source": [
    "methods(VtolEnv)"
   ]
  },
  {
   "cell_type": "markdown",
   "id": "806413d1",
   "metadata": {},
   "source": [
    "# Define the RL interface"
   ]
  },
  {
   "cell_type": "code",
   "execution_count": null,
   "id": "0f822029",
   "metadata": {},
   "outputs": [],
   "source": [
    "Random.seed!(env::VtolEnv, seed) = Random.seed!(env.rng, seed)\n",
    "RLBase.action_space(env::VtolEnv) = env.action_space\n",
    "RLBase.state_space(env::VtolEnv) = env.observation_space\n",
    "RLBase.is_terminated(env::VtolEnv) = env.done\n",
    "RLBase.state(env::VtolEnv) = env.state"
   ]
  },
  {
   "cell_type": "code",
   "execution_count": null,
   "id": "1f7fb89c",
   "metadata": {},
   "outputs": [],
   "source": [
    "function computeReward(env::VtolEnv{A,T}) where {A,T}\n",
    "    \n",
    "    stay_alive = 10.0\n",
    "    \n",
    "    upright_orientation = env.state[3]*10.0 # World Vector UP z (1 = upright)\n",
    "    Body_velocity = norm(env.v_B .- transpose(env.R_W)*env.v_W_target)*20.0 # Body velocity \n",
    "    \n",
    "    \n",
    "    thrust_change = norm(env.current_action .- env.last_action)*20.0    \n",
    "    thrust_balance = std(env.current_action)*40.0\n",
    "\n",
    "    \n",
    "    return (stay_alive - Body_velocity-thrust_balance)/80.0\n",
    "end\n",
    "\n",
    "\n",
    "RLBase.reward(env::VtolEnv{A,T}) where {A,T} = computeReward(env)"
   ]
  },
  {
   "cell_type": "code",
   "execution_count": null,
   "id": "ae45ec04",
   "metadata": {},
   "outputs": [],
   "source": [
    "function RLBase.reset!(env::VtolEnv{A,T}) where {A,T}\n",
    "    \n",
    "    targetVel = [0.0; 0.0; 0.0];\n",
    "    initialVel = [0.0; 0.0; 0.0];\n",
    "    \n",
    "    env.v_W_target = targetVel;\n",
    "    v_B_target = transpose(env.R_W)*env.v_W_target\n",
    "    env.x_W = [0.0; 0.0; 0.0];\n",
    "    env.v_B = initialVel;\n",
    "    env.R_W = Matrix(one(QuatRotation)); # Identity matrix (no rotation)\n",
    "    env.ω_B = [0.0; 0.0; 0.0];\n",
    "    env.wind_W = [0.0; 0.0; 0.0];\n",
    "        \n",
    " \n",
    "    env.state = [env.R_W[1,3]; # 1  World Vector UP x\n",
    "                 env.R_W[2,3]; # 2  World Vector UP y\n",
    "                 env.R_W[3,3]; # 3  World Vector UP z\n",
    "                 env.R_W[1,1]; # 4  World Vector FRONT x\n",
    "                 env.R_W[2,1]; # 5  World Vector FRONT y\n",
    "                 env.R_W[3,1]; # 6  World Vector FRONT z\n",
    "                 v_B_target[1]; # 7  Body target velocity along x\n",
    "                 v_B_target[2]; # 8  Body target velocity along y\n",
    "                 v_B_target[3]; # 9  Body target velocity along z\n",
    "                 env.v_B[1]; #  10  Body velocity along x\n",
    "                 env.v_B[2]; #  11  Body velocity along y\n",
    "                 env.v_B[3]; #  12  Body velocity along z\n",
    "                 env.ω_B[1]; #  13  Body rotational velocity around x\n",
    "                 env.ω_B[2]; #  14  Body rotational velocity around y\n",
    "                 env.ω_B[3]] #  15  Body rotational velocity around z\n",
    "    \n",
    "    env.t = 0.0; # time 0s\n",
    "    env.action = [0.25; 0.25; 0.25; 0.25] # normalized\n",
    "    env.last_action = [0.255; 0.255; 0.255; 0.255] # normalized\n",
    "    env.current_action = [0.255; 0.255; 0.255; 0.255] # normalized\n",
    "\n",
    "    env.done = false # reset termination\n",
    "    \n",
    "    if env.visualization\n",
    "        # Visualize initial state\n",
    "        set_transform(env.name, env.x_W,QuatRotation(env.R_W));\n",
    "        set_Crazyflie_actuators(env.name, [0.0; 0.0; 0.0; 0.0]);\n",
    "        transform_arrow(string(env.name, \"_vel\"), env.x_W, env.v_W_target, max_head_radius=0.05) \n",
    "        transform_arrow(string(env.name, \"_vel_current\"), env.x_W, [0.0; 0.0; 0.0], max_head_radius=0.05) \n",
    "    end\n",
    "    \n",
    "    nothing # return nothing\n",
    "end;"
   ]
  },
  {
   "cell_type": "code",
   "execution_count": null,
   "id": "1cf1a7b7",
   "metadata": {},
   "outputs": [],
   "source": [
    "# defines a methods for a callable object.\n",
    "# So when a VtolEnv object is created, it has this method that can be called\n",
    "function (env::VtolEnv)(a)\n",
    "\n",
    "\n",
    "    # call the step on the environoment with the next action \n",
    "    _step!(env, a)\n",
    "        \n",
    "end"
   ]
  },
  {
   "cell_type": "code",
   "execution_count": null,
   "id": "26a5a0da",
   "metadata": {},
   "outputs": [],
   "source": [
    "env = VtolEnv();"
   ]
  },
  {
   "cell_type": "raw",
   "id": "ff8f68a7",
   "metadata": {},
   "source": [
    "methods(env) # Just to explain which methods the object has"
   ]
  },
  {
   "cell_type": "code",
   "execution_count": null,
   "id": "d4d67302",
   "metadata": {},
   "outputs": [],
   "source": [
    "function scale_actions(next_action)\n",
    "    return next_action*22000.0\n",
    "end"
   ]
  },
  {
   "cell_type": "code",
   "execution_count": null,
   "id": "9e7d4727",
   "metadata": {},
   "outputs": [],
   "source": [
    "function _step!(env::VtolEnv, next_action)\n",
    "    \n",
    "\n",
    "    env.last_action = copy(env.current_action)\n",
    "    env.current_action[1] = next_action[1]\n",
    "    env.current_action[2] = next_action[2]\n",
    "    env.current_action[3] = next_action[3]\n",
    "    env.current_action[4] = next_action[4]\n",
    "    \n",
    "    \n",
    "    \n",
    "    scaled_actions = scale_actions.(next_action) # between 0 and 1 for neual network\n",
    "    # caluclate wind impact\n",
    "    v_in_wind_B = vtol_add_wind(env.v_B, env.R_W, env.wind_W)\n",
    "    # caluclate aerodynamic forces\n",
    "    torque_B, force_B = crazyflie_model(scaled_actions);\n",
    "    # integrate rigid body dynamics for Δt\n",
    "    env.x_W, env.v_B, _, env.R_W, env.ω_B, _, env.t = rigid_body_simple(torque_B, force_B, env.x_W, env.v_B, env.R_W, env.ω_B, env.t, env.Δt, crazyflie_param)\n",
    "\n",
    "    \n",
    "    if env.visualization\n",
    "        set_transform(env.name, env.x_W,QuatRotation(env.R_W));\n",
    "        set_Crazyflie_actuators(env.name, next_action[1:4])\n",
    "        transform_arrow(string(env.name, \"_vel\"), env.x_W, env.v_W_target, max_head_radius=0.05)               \n",
    "        transform_arrow(string(env.name, \"_vel_current\"), env.x_W, env.R_W*env.v_B, max_head_radius=0.05) \n",
    "    end\n",
    "    \n",
    "    if env.worldtime\n",
    "        sleep(env.Δt)\n",
    "    end\n",
    "    \n",
    "    v_B_target = transpose(env.R_W)*env.v_W_target\n",
    "    \n",
    "    \n",
    "    # State space\n",
    "    env.state = [env.R_W[1,3]; # 1  World Vector UP x\n",
    "                 env.R_W[2,3]; # 2  World Vector UP y\n",
    "                 env.R_W[3,3]; # 3  World Vector UP z\n",
    "                 env.R_W[1,1]; # 4  World Vector FRONT x\n",
    "                 env.R_W[2,1]; # 5  World Vector FRONT y\n",
    "                 env.R_W[3,1]; # 6  World Vector FRONT z\n",
    "                 v_B_target[1]; # 7  Body target velocity along x\n",
    "                 v_B_target[2]; # 8  Body target velocity along y\n",
    "                 v_B_target[3]; # 9  Body target velocity along z\n",
    "                 env.v_B[1]; # 10  Body velocity along x\n",
    "                 env.v_B[2]; # 11  Body velocity along y\n",
    "                 env.v_B[3]; # 12  Body velocity along z\n",
    "                 env.ω_B[1]; # 13 Body rotational velocity around x\n",
    "                 env.ω_B[2]; # 14 Body rotational velocity around y\n",
    "                 env.ω_B[3]] # 15 Body rotational velocity around z\n",
    "    \n",
    "\n",
    "    \n",
    "    \n",
    "    # Termination criteria\n",
    "    env.done =\n",
    "        norm(env.v_B) > 20.0 || # m/sec stop if body is to fast\n",
    "        norm(env.ω_B) > 40.0 || # rad/sec stop if body rotatesto fast\n",
    "        env.R_W[3,3] < 0.7 || # Stop if the drone is pitched/rolled to muche\n",
    "        env.t > 4.0 # stop after 10s\n",
    "        \n",
    "    nothing\n",
    "end;"
   ]
  },
  {
   "cell_type": "code",
   "execution_count": null,
   "id": "6e1cd988",
   "metadata": {},
   "outputs": [],
   "source": [
    "RLBase.test_runnable!(env)"
   ]
  },
  {
   "cell_type": "markdown",
   "id": "c223a31f",
   "metadata": {},
   "source": [
    "Show an overview of the environment."
   ]
  },
  {
   "cell_type": "markdown",
   "id": "ffe6de74",
   "metadata": {},
   "source": [
    "# Setup of a reinforcement learning experiment."
   ]
  },
  {
   "cell_type": "code",
   "execution_count": null,
   "id": "e5683fe8",
   "metadata": {},
   "outputs": [],
   "source": [
    "seed = 123    \n",
    "rng = StableRNG(seed)\n",
    "N_ENV = 8\n",
    "UPDATE_FREQ = 1024\n",
    "EVALUATION_FREQ = 10_000\n",
    "SAVE_FREQ = 100_000\n",
    "\n",
    "env = VtolEnv(; rng = StableRNG(hash(seed)), name = \"cf_SAC\")\n"
   ]
  },
  {
   "cell_type": "code",
   "execution_count": null,
   "id": "d1f128b2",
   "metadata": {},
   "outputs": [],
   "source": [
    "# Define the function approximator\n",
    "    ns, na = length(state(env)), length(action_space(env))\n",
    "\n",
    "create_policy_net() = NeuralNetworkApproximator(\n",
    "        model = GaussianNetwork(\n",
    "            pre = Chain(\n",
    "                Dense(ns, 64, relu, init = glorot_uniform(rng)),\n",
    "                Dense(64, 64, relu, init = glorot_uniform(rng)),\n",
    "            ),\n",
    "            μ = Chain(Dense(64, na, init = glorot_uniform(rng))),\n",
    "            logσ = Chain(Dense(64, na, x -> clamp.(x, typeof(x)(-10), typeof(x)(2)), init = glorot_uniform(rng))),\n",
    "        ),\n",
    "        optimizer = ADAM(1e-4),\n",
    "    )\n",
    "\n",
    "    create_q_net() = NeuralNetworkApproximator(\n",
    "        model = Chain(\n",
    "            Dense(ns + na, 64, relu; init = glorot_uniform(rng)),\n",
    "            Dense(64, 64, relu; init = glorot_uniform(rng)),\n",
    "            Dense(64, 1; init = glorot_uniform(rng)),\n",
    "        ),\n",
    "        optimizer = ADAM(1e-4),\n",
    "    )"
   ]
  },
  {
   "cell_type": "code",
   "execution_count": null,
   "id": "05ab2a0a",
   "metadata": {},
   "outputs": [],
   "source": [
    "dataset_size = 10000\n",
    "start_steps = dataset_size\n",
    "trajectory_num = dataset_size"
   ]
  },
  {
   "cell_type": "code",
   "execution_count": null,
   "id": "7ea4c37c",
   "metadata": {},
   "outputs": [],
   "source": [
    "    agent = Agent( # A wrapper of an AbstractPolicy\n",
    "         \n",
    "    \n",
    "    policy = SACPolicy(\n",
    "            policy = create_policy_net(),\n",
    "            qnetwork1 = create_q_net(),\n",
    "            qnetwork2 = create_q_net(),\n",
    "            target_qnetwork1 = create_q_net(),\n",
    "            target_qnetwork2 = create_q_net(),\n",
    "            γ = 0.99f0,\n",
    "            τ = 0.005f0,\n",
    "            α = 0.2f0,\n",
    "            batch_size = 64,\n",
    "            start_steps = start_steps,\n",
    "            start_policy = RandomPolicy(Space([-1.0..1.0 for _ in 1:na]); rng = rng),\n",
    "            update_after = UPDATE_FREQ,\n",
    "            update_freq = 1,\n",
    "            automatic_entropy_tuning = true,\n",
    "            lr_alpha = 0.003f0,\n",
    "            action_dims = na,\n",
    "            rng = rng,\n",
    "        ),\n",
    "        trajectory = CircularArraySARTTrajectory(\n",
    "            capacity = dataset_size+1,\n",
    "            state = Vector{Float32} => (ns,),\n",
    "            action = Vector{Float32} => (na,),\n",
    "        ),\n",
    "\n",
    "    \n",
    "    );\n",
    "\n",
    "\n",
    "\n",
    "\n"
   ]
  },
  {
   "cell_type": "code",
   "execution_count": null,
   "id": "aafcb113",
   "metadata": {},
   "outputs": [],
   "source": [
    "function saveModel(t, agent, env)\n",
    "    model = cpu(agent.policy)   \n",
    "    f = joinpath(\"./\", \"cf_sac_$t.bson\")\n",
    "    @save f model\n",
    "    println(\"parameters at step $t saved to $f\")\n",
    "end"
   ]
  },
  {
   "cell_type": "raw",
   "id": "bfff7a4e",
   "metadata": {},
   "source": [
    "function loadModel()\n",
    "    f = joinpath(\"./\", \"mode.bson\")\n",
    "    @load f model\n",
    "    return model\n",
    "end"
   ]
  },
  {
   "cell_type": "raw",
   "id": "2e75555f",
   "metadata": {},
   "source": [
    "agent.policy.approximator = loadModel();"
   ]
  },
  {
   "cell_type": "code",
   "execution_count": null,
   "id": "7470f200",
   "metadata": {},
   "outputs": [],
   "source": [
    "function validate_policy(t, agent, env)\n",
    "    # for validation extract the policy from the agend\n",
    "    run(agent.policy, test_env, StopAfterEpisode(1), \n",
    "        ComposedHook(\n",
    "        episode_test_step_hook, \n",
    "        episode_test_reward_hook\n",
    "    ),\n",
    "        )\n",
    "    # the result of the hook\n",
    "    reward = round((episode_test_reward_hook.rewards[end]),digits = 3)\n",
    "    length = episode_test_step_hook.steps[end-1]\n",
    "    \n",
    "    println(\"step: \", t, \" reward : \",reward, \" length: \", length)\n",
    "\n",
    "    with_logger(logger) do\n",
    "        @info \"evaluating\" avg_length = length  avg_reward = reward  log_step_increment = 0\n",
    "    end\n",
    "    end;\n",
    "\n",
    "episode_test_reward_hook = TotalRewardPerEpisode( is_display_on_exit=false)\n",
    "episode_test_step_hook = StepsPerEpisode()\n",
    "# create a env only for reward test\n",
    "\n",
    "test_env = VtolEnv(;name = \"test_cf\", visualization = true, worldtime = true);"
   ]
  },
  {
   "cell_type": "code",
   "execution_count": null,
   "id": "6aadbfce",
   "metadata": {},
   "outputs": [],
   "source": [
    "# Define hook which is called during the training\n",
    "total_reward_per_episode = TotalRewardPerEpisode(is_display_on_exit = false)\n",
    "hook = ComposedHook(\n",
    "    #total_batch_reward_per_episode,\n",
    "    DoEveryNStep(saveModel, n=SAVE_FREQ),\n",
    "    DoEveryNStep(validate_policy, n=EVALUATION_FREQ),\n",
    "    #=\n",
    "    DoEveryNStep() do t, agent, env\n",
    "        p = agent.policy\n",
    "        with_logger(logger) do\n",
    "            @info \"training\" loss = mean(p.loss)  actor_loss = mean(p.actor_loss)  critic_loss = mean(p.critic_loss)\n",
    "        end\n",
    "    end,\n",
    "    =#\n",
    "    DoEveryNStep() do t, agent, env\n",
    "        with_logger(logger) do\n",
    "            if length(total_reward_per_episode.rewards) > 1\n",
    "                @info \"training\" total_reward_per_episode.rewards[end]\n",
    "            end\n",
    "        end\n",
    "    end,\n",
    "    #=\n",
    "    DoEveryNStep() do t, agent, env\n",
    "        with_logger(logger) do\n",
    "            @info \"training\" action_thrust_1 = env[1].action[1]  action_thrust_2 = env[1].action[2] action_thrust_3 = env[1].action[3] action_thrust_4 = env[1].action[4]\n",
    "        end\n",
    "    end,\n",
    "    =#\n",
    ");"
   ]
  },
  {
   "cell_type": "code",
   "execution_count": null,
   "id": "45dfdb68",
   "metadata": {
    "scrolled": false
   },
   "outputs": [],
   "source": [
    "run(agent,\n",
    "    env,\n",
    "    StopAfterStep(100_000),\n",
    "    hook\n",
    ")"
   ]
  },
  {
   "cell_type": "code",
   "execution_count": null,
   "id": "21a5d7b6",
   "metadata": {},
   "outputs": [],
   "source": [
    "plot(episode_test_reward_hook.rewards)"
   ]
  },
  {
   "cell_type": "code",
   "execution_count": null,
   "id": "41c1dc36",
   "metadata": {},
   "outputs": [],
   "source": [
    "plot(episode_test_step_hook.steps[1:2:end])"
   ]
  }
 ],
 "metadata": {
  "@webio": {
   "lastCommId": null,
   "lastKernelId": null
  },
  "kernelspec": {
   "display_name": "Julia 12 Threads 1.8.0",
   "language": "julia",
   "name": "julia-12-threads-1.8"
  },
  "language_info": {
   "file_extension": ".jl",
   "mimetype": "application/julia",
   "name": "julia",
   "version": "1.8.2"
  }
 },
 "nbformat": 4,
 "nbformat_minor": 5
}
